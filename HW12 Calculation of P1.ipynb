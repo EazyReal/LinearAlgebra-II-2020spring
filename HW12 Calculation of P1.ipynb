{
 "cells": [
  {
   "cell_type": "code",
   "execution_count": 53,
   "metadata": {},
   "outputs": [],
   "source": [
    "import numpy as np\n",
    "import networkx as nx\n",
    "import scipy.linalg"
   ]
  },
  {
   "cell_type": "code",
   "execution_count": 13,
   "metadata": {},
   "outputs": [
    {
     "data": {
      "text/plain": [
       "'A = { (1,2), [2,5], [5,3], [1,3], [2,3],\\n    [1,4], [4,1], [1,5], [5,1],\\n    [4,3], [3,4], [4,5], [5,4]\\n    }'"
      ]
     },
     "execution_count": 13,
     "metadata": {},
     "output_type": "execute_result"
    }
   ],
   "source": [
    "\"\"\"A = { (1,2), [2,5], [5,3], [1,3], [2,3],\n",
    "    [1,4], [4,1], [1,5], [5,1],\n",
    "    [4,3], [3,4], [4,5], [5,4]\n",
    "    }\"\"\""
   ]
  },
  {
   "cell_type": "code",
   "execution_count": 21,
   "metadata": {},
   "outputs": [
    {
     "data": {
      "text/plain": [
       "'A = { (1,2), (2,5), (5,3), (1,3), (2,3),     (1,4), (4,1), (1,5), (5,1),     (4,3), (3,4), (4,5), (5,4)     }'"
      ]
     },
     "execution_count": 21,
     "metadata": {},
     "output_type": "execute_result"
    }
   ],
   "source": [
    "s = \"\"\"A = { (1,2), [2,5], [5,3], [1,3], [2,3],\n",
    "    [1,4], [4,1], [1,5], [5,1],\n",
    "    [4,3], [3,4], [4,5], [5,4]\n",
    "    }\"\"\"\n",
    "s = s.replace('[', \"(\")\n",
    "s = s.replace(']', \")\")\n",
    "s = s.replace('\\n', \" \")\n",
    "s"
   ]
  },
  {
   "cell_type": "code",
   "execution_count": 27,
   "metadata": {},
   "outputs": [],
   "source": [
    "A = { (1,2), (2,5), (5,3), (1,3), (2,3),     (1,4), (4,1), (1,5), (5,1),     (4,3), (3,4), (4,5), (5,4)     }"
   ]
  },
  {
   "cell_type": "code",
   "execution_count": 61,
   "metadata": {},
   "outputs": [
    {
     "name": "stdout",
     "output_type": "stream",
     "text": [
      "0 1\n",
      "0 2\n",
      "0 3\n",
      "0 4\n",
      "1 2\n",
      "1 4\n",
      "2 3\n",
      "3 0\n",
      "3 2\n",
      "3 4\n",
      "4 0\n",
      "4 2\n",
      "4 3\n",
      "[[0. 0. 0. 1. 1.]\n",
      " [1. 0. 0. 0. 0.]\n",
      " [1. 1. 0. 1. 1.]\n",
      " [1. 0. 1. 0. 1.]\n",
      " [1. 1. 0. 1. 0.]]\n"
     ]
    }
   ],
   "source": [
    "n = 5\n",
    "G = np.zeros((5,5)) #use * will cause change of other\n",
    "#print(G)\n",
    "for i in range(5):\n",
    "    for j in range(5):\n",
    "        if((i+1,j+1) in A):\n",
    "            G[j][i] = 1\n",
    "            print(i,j)\n",
    "print(G)"
   ]
  },
  {
   "cell_type": "code",
   "execution_count": 51,
   "metadata": {},
   "outputs": [
    {
     "data": {
      "image/png": "[encoded data removed]",
      "text/plain": [
       "<Figure size 432x288 with 1 Axes>"
      ]
     },
     "metadata": {},
     "output_type": "display_data"
    }
   ],
   "source": [
    "Gx = nx.Graph(G)\n",
    "nx.draw(Gx, with_labels=True)"
   ]
  },
  {
   "cell_type": "code",
   "execution_count": 52,
   "metadata": {},
   "outputs": [
    {
     "data": {
      "text/plain": [
       "array([[0.        , 0.        , 0.        , 0.33333333, 0.33333333],\n",
       "       [0.25      , 0.        , 0.        , 0.        , 0.        ],\n",
       "       [0.25      , 0.5       , 0.        , 0.33333333, 0.33333333],\n",
       "       [0.25      , 0.        , 1.        , 0.        , 0.33333333],\n",
       "       [0.25      , 0.5       , 0.        , 0.33333333, 0.        ]])"
      ]
     },
     "execution_count": 52,
     "metadata": {},
     "output_type": "execute_result"
    }
   ],
   "source": [
    "G = G/np.sum(G,axis=0)\n",
    "G"
   ]
  },
  {
   "cell_type": "code",
   "execution_count": 55,
   "metadata": {},
   "outputs": [
    {
     "data": {
      "text/plain": [
       "array([[0.2, 0.2, 0.2, 0.2, 0.2],\n",
       "       [0.2, 0.2, 0.2, 0.2, 0.2],\n",
       "       [0.2, 0.2, 0.2, 0.2, 0.2],\n",
       "       [0.2, 0.2, 0.2, 0.2, 0.2],\n",
       "       [0.2, 0.2, 0.2, 0.2, 0.2]])"
      ]
     },
     "execution_count": 55,
     "metadata": {},
     "output_type": "execute_result"
    }
   ],
   "source": [
    "R = np.ones((n,n))/np.sum(R,axis=0)\n",
    "R"
   ]
  },
  {
   "cell_type": "code",
   "execution_count": 57,
   "metadata": {},
   "outputs": [
    {
     "data": {
      "text/plain": [
       "array([[0.03      , 0.03      , 0.03      , 0.31333333, 0.31333333],\n",
       "       [0.2425    , 0.03      , 0.03      , 0.03      , 0.03      ],\n",
       "       [0.2425    , 0.455     , 0.03      , 0.31333333, 0.31333333],\n",
       "       [0.2425    , 0.03      , 0.88      , 0.03      , 0.31333333],\n",
       "       [0.2425    , 0.455     , 0.03      , 0.31333333, 0.03      ]])"
      ]
     },
     "execution_count": 57,
     "metadata": {},
     "output_type": "execute_result"
    }
   ],
   "source": [
    "damping_constant = 0.85\n",
    "W = damping_constant*G + (1-damping_constant)*R\n",
    "W"
   ]
  },
  {
   "cell_type": "code",
   "execution_count": 60,
   "metadata": {},
   "outputs": [
    {
     "data": {
      "text/plain": [
       "array([[0.36201513],\n",
       "       [0.13867824],\n",
       "       [0.4978816 ],\n",
       "       [0.67179951],\n",
       "       [0.38795969]])"
      ]
     },
     "execution_count": 60,
     "metadata": {},
     "output_type": "execute_result"
    }
   ],
   "source": [
    "scipy.linalg.null_space(W-np.eye(5))"
   ]
  },
  {
   "cell_type": "code",
   "execution_count": null,
   "metadata": {},
   "outputs": [],
   "source": []
  }
 ],
 "metadata": {
  "kernelspec": {
   "display_name": "Python 3",
   "language": "python",
   "name": "python3"
  },
  "language_info": {
   "codemirror_mode": {
    "name": "ipython",
    "version": 3
   },
   "file_extension": ".py",
   "mimetype": "text/x-python",
   "name": "python",
   "nbconvert_exporter": "python",
   "pygments_lexer": "ipython3",
   "version": "3.7.4"
  }
 },
 "nbformat": 4,
 "nbformat_minor": 2
}
