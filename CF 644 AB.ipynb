{
 "cells": [
  {
   "cell_type": "code",
   "execution_count": null,
   "metadata": {},
   "outputs": [],
   "source": [
    "T = int(input())\n",
    "\n",
    "for i in range(T):\n",
    "    a, b = list(map(int, input().split()))\n",
    "    # print(a, b)\n",
    "    c1 = max(2*a, b)*max(2*a, b)\n",
    "    c2 = max(a, 2*b)*max(a, 2*b)\n",
    "    print(max(c1, c2))"
   ]
  },
  {
   "cell_type": "code",
   "execution_count": null,
   "metadata": {},
   "outputs": [
    {
     "name": "stdout",
     "output_type": "stream",
     "text": [
      "3\n",
      "5\n",
      "3 1 2 6 4\n",
      "1\n"
     ]
    }
   ],
   "source": [
    "T = int(input())\n",
    "\n",
    "for i in range(T):\n",
    "    n = int(input())\n",
    "    a = list(map(int, input().split()))\n",
    "    a.sort()\n",
    "    \n",
    "    minv = 100000000000\n",
    "    for i in range(n-1):\n",
    "        minv = min(minv, a[i+1]-a[i])\n",
    "     \n",
    "    print(minv)"
   ]
  },
  {
   "cell_type": "code",
   "execution_count": null,
   "metadata": {},
   "outputs": [],
   "source": []
  }
 ],
 "metadata": {
  "kernelspec": {
   "display_name": "Python 3",
   "language": "python",
   "name": "python3"
  }
 },
 "nbformat": 4,
 "nbformat_minor": 2
}
