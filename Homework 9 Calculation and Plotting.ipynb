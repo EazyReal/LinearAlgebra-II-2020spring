{
 "cells": [
  {
   "cell_type": "code",
   "execution_count": 1,
   "metadata": {},
   "outputs": [],
   "source": [
    "import numpy as np\n",
    "import scipy.linalg\n",
    "import matplotlib.pyplot as plt"
   ]
  },
  {
   "cell_type": "code",
   "execution_count": 2,
   "metadata": {},
   "outputs": [],
   "source": [
    "A1 = np.asarray([[2.0,2.0],\n",
    "                        [-1.0,2.0],\n",
    "                        [1.0,1.0],\n",
    "                        [-2.0,3.0],\n",
    "                       ])"
   ]
  },
  {
   "cell_type": "code",
   "execution_count": 3,
   "metadata": {},
   "outputs": [],
   "source": [
    "class P1:\n",
    "    def solve(A):\n",
    "        AtA = A.T@A\n",
    "        n = AtA.shape[0]\n",
    "        plt.scatter(A[:,0], A[:,1])\n",
    "        plt.show()\n",
    "        print(np.poly(AtA))\n",
    "        print(np.roots(np.poly(AtA)))\n",
    "        roots = np.roots(np.poly(AtA))\n",
    "        r = len(roots)\n",
    "        I = np.eye(n)\n",
    "        \n",
    "        for root in roots:\n",
    "            Ei = AtA-root*I\n",
    "            print(\"eiggen vectors of eigen value \" + str(root))\n",
    "            ns = scipy.linalg.null_space(Ei)\n",
    "        # vs have to self calc.\n",
    "        \n",
    "        print(np.linalg.eig(AtA))"
   ]
  },
  {
   "cell_type": "code",
   "execution_count": 4,
   "metadata": {},
   "outputs": [
    {
     "data": {
      "text/plain": [
       "array([[ 0.        ,  0.45241393],\n",
       "       [-0.84515425, -0.12926112],\n",
       "       [ 0.16903085, -0.87897563],\n",
       "       [ 0.50709255,  0.07755667]])"
      ]
     },
     "execution_count": 4,
     "metadata": {},
     "output_type": "execute_result"
    }
   ],
   "source": [
    "U1 = np.array([[4,7,2,11],\n",
    "              [8, -1, 4, -3],\n",
    "              [0, 0, 0, 0],\n",
    "              [0, 0, 0, 0]\n",
    "             ])\n",
    "scipy.linalg.null_space(U1)"
   ]
  },
  {
   "cell_type": "code",
   "execution_count": 5,
   "metadata": {},
   "outputs": [
    {
     "name": "stdout",
     "output_type": "stream",
     "text": [
      "[[-0.4  1.2]\n",
      " [-0.7  2.1]\n",
      " [-0.2  0.6]\n",
      " [-1.1  3.3]]\n",
      "Problem 1-2\n"
     ]
    },
    {
     "data": {
      "image/png": "[encoded data removed]",
      "text/plain": [
       "<Figure size 432x288 with 1 Axes>"
      ]
     },
     "metadata": {
      "needs_background": "light"
     },
     "output_type": "display_data"
    }
   ],
   "source": [
    "vt1 = np.array([[-1, 3]])\n",
    "v1 =  vt1.T/np.linalg.norm(vt1)\n",
    "Proj1 = A1@(v1)@(v1.T)\n",
    "print(Proj1)\n",
    "print(\"Problem 1-2\")\n",
    "plt.scatter(A1[:,0], A1[:,1])\n",
    "plt.scatter(Proj1[:,0], Proj1[:,1])\n",
    "plt.show()"
   ]
  },
  {
   "cell_type": "code",
   "execution_count": 6,
   "metadata": {},
   "outputs": [
    {
     "data": {
      "image/png": "[encoded data removed]",
      "text/plain": [
       "<Figure size 432x288 with 1 Axes>"
      ]
     },
     "metadata": {
      "needs_background": "light"
     },
     "output_type": "display_data"
    },
    {
     "name": "stdout",
     "output_type": "stream",
     "text": [
      "[  1. -28. 171.]\n",
      "[19.  9.]\n",
      "eiggen vectors of eigen value 19.0\n",
      "eiggen vectors of eigen value 9.0\n",
      "(array([ 9., 19.]), array([[-0.9486833 ,  0.31622777],\n",
      "       [-0.31622777, -0.9486833 ]]))\n"
     ]
    }
   ],
   "source": [
    "P1.solve(A1)"
   ]
  },
  {
   "cell_type": "code",
   "execution_count": 7,
   "metadata": {},
   "outputs": [],
   "source": [
    "class P2:\n",
    "    def solve(A):\n",
    "        m = np.mean(A, axis=0)\n",
    "        Am = A-m\n",
    "        print(m, Am)\n",
    "        P1.solve(Am)"
   ]
  },
  {
   "cell_type": "code",
   "execution_count": 8,
   "metadata": {},
   "outputs": [
    {
     "name": "stdout",
     "output_type": "stream",
     "text": [
      "[0. 2.] [[ 2.  0.]\n",
      " [-1.  0.]\n",
      " [ 1. -1.]\n",
      " [-2.  1.]]\n"
     ]
    },
    {
     "data": {
      "image/png": "[encoded data removed]",
      "text/plain": [
       "<Figure size 432x288 with 1 Axes>"
      ]
     },
     "metadata": {
      "needs_background": "light"
     },
     "output_type": "display_data"
    },
    {
     "name": "stdout",
     "output_type": "stream",
     "text": [
      "[  1. -12.  11.]\n",
      "[11.  1.]\n",
      "eiggen vectors of eigen value 11.0\n",
      "eiggen vectors of eigen value 1.0\n",
      "(array([11.,  1.]), array([[ 0.9486833 ,  0.31622777],\n",
      "       [-0.31622777,  0.9486833 ]]))\n"
     ]
    }
   ],
   "source": [
    "P2.solve(A1)"
   ]
  },
  {
   "cell_type": "code",
   "execution_count": 34,
   "metadata": {},
   "outputs": [
    {
     "name": "stdout",
     "output_type": "stream",
     "text": [
      "[0. 2.]\n",
      "[[ 2.  0.]\n",
      " [-1.  0.]\n",
      " [ 1. -1.]\n",
      " [-2.  1.]]\n",
      "AmT@Am\n",
      " [[10. -3.]\n",
      " [-3.  2.]]\n",
      "eigenvs\n",
      " [11.  1.]\n",
      "(array([11.,  1.]), array([[ 0.9486833 ,  0.31622777],\n",
      "       [-0.31622777,  0.9486833 ]]))\n",
      "[[ 1.8  1.4]\n",
      " [-0.9  2.3]\n",
      " [ 1.2  1.6]\n",
      " [-2.1  2.7]]\n",
      "Problem 1-4\n"
     ]
    },
    {
     "data": {
      "image/png": "[encoded data removed]",
      "text/plain": [
       "<Figure size 432x288 with 1 Axes>"
      ]
     },
     "metadata": {
      "needs_background": "light"
     },
     "output_type": "display_data"
    }
   ],
   "source": [
    "# self calc A1 PCA vector 1\n",
    "m1 = np.mean(A1, axis=0)\n",
    "print(m1)\n",
    "Am1 = A1-m1\n",
    "print(Am1)\n",
    "B2 = Am1.T@Am1\n",
    "print(\"AmT@Am\\n\", B2)\n",
    "print(\"eigenvs\\n\", np.roots(np.poly(B2)))\n",
    "\n",
    "print(np.linalg.eig(B2))\n",
    "vt12 = np.array([[-3, 1]])\n",
    "vt122 = np.array([[1, 3]])\n",
    "#print(\"u12\\n\", Am1@(vt12.T))\n",
    "#print(\"u22\\n\", Am1@(vt122.T))\n",
    "v12 =  vt12.T/np.linalg.norm(vt12)\n",
    "Proj12 = Am1@(v12)@(v12.T)\n",
    "Proj12 = Proj12 + m1\n",
    "print(Proj12)\n",
    "print(\"Problem 1-4\")\n",
    "plt.scatter(A1[:,0], A1[:,1])\n",
    "plt.scatter(Proj12[:,0], Proj12[:,1])\n",
    "plt.show()"
   ]
  },
  {
   "cell_type": "code",
   "execution_count": 35,
   "metadata": {},
   "outputs": [],
   "source": [
    "A3 = np.array([[0, -1],\n",
    "               [4, -2],\n",
    "               [3, -2],\n",
    "               [1, 0],\n",
    "               [2, 0]\n",
    "              ])"
   ]
  },
  {
   "cell_type": "code",
   "execution_count": 36,
   "metadata": {},
   "outputs": [
    {
     "data": {
      "image/png": "[encoded data removed]",
      "text/plain": [
       "<Figure size 432x288 with 1 Axes>"
      ]
     },
     "metadata": {
      "needs_background": "light"
     },
     "output_type": "display_data"
    },
    {
     "name": "stdout",
     "output_type": "stream",
     "text": [
      "[  1. -39.  74.]\n",
      "[37.  2.]\n",
      "eiggen vectors of eigen value 37.0\n",
      "eiggen vectors of eigen value 2.0\n",
      "(array([37.,  2.]), array([[ 0.89442719,  0.4472136 ],\n",
      "       [-0.4472136 ,  0.89442719]]))\n"
     ]
    }
   ],
   "source": [
    "P1.solve(A3)"
   ]
  },
  {
   "cell_type": "code",
   "execution_count": 42,
   "metadata": {},
   "outputs": [
    {
     "name": "stdout",
     "output_type": "stream",
     "text": [
      "[[ 0.4 -0.2]\n",
      " [ 4.  -2. ]\n",
      " [ 3.2 -1.6]\n",
      " [ 0.8 -0.4]\n",
      " [ 1.6 -0.8]]\n",
      "Problem 2-1\n"
     ]
    },
    {
     "data": {
      "image/png": "[encoded data removed]",
      "text/plain": [
       "<Figure size 432x288 with 1 Axes>"
      ]
     },
     "metadata": {
      "needs_background": "light"
     },
     "output_type": "display_data"
    }
   ],
   "source": [
    "vt31 = np.array([[2, -1]])\n",
    "vt32 = np.array([[1, 2]])\n",
    "v31 =  vt31.T/np.linalg.norm(vt31)\n",
    "Proj3 = A3@(v31)@(v31.T)\n",
    "print(Proj3)\n",
    "print(\"Problem 2-1\")\n",
    "plt.scatter(A3[:,0], A3[:,1])\n",
    "plt.scatter(Proj3[:,0], Proj3[:,1])\n",
    "plt.show()"
   ]
  },
  {
   "cell_type": "code",
   "execution_count": 43,
   "metadata": {},
   "outputs": [
    {
     "data": {
      "text/plain": [
       "array([[-2],\n",
       "       [ 0],\n",
       "       [-1],\n",
       "       [ 1],\n",
       "       [ 2]])"
      ]
     },
     "execution_count": 43,
     "metadata": {},
     "output_type": "execute_result"
    }
   ],
   "source": [
    "A3@vt31.T\n",
    "A3@vt32.T"
   ]
  },
  {
   "cell_type": "code",
   "execution_count": 44,
   "metadata": {},
   "outputs": [
    {
     "name": "stdout",
     "output_type": "stream",
     "text": [
      "[ 2. -1.] [[-2.  0.]\n",
      " [ 2. -1.]\n",
      " [ 1. -1.]\n",
      " [-1.  1.]\n",
      " [ 0.  1.]]\n"
     ]
    },
    {
     "data": {
      "image/png": "[encoded data removed]",
      "text/plain": [
       "<Figure size 432x288 with 1 Axes>"
      ]
     },
     "metadata": {
      "needs_background": "light"
     },
     "output_type": "display_data"
    },
    {
     "name": "stdout",
     "output_type": "stream",
     "text": [
      "[  1. -14.  24.]\n",
      "[12.  2.]\n",
      "eiggen vectors of eigen value 12.0\n",
      "eiggen vectors of eigen value 2.0\n",
      "(array([12.,  2.]), array([[ 0.89442719,  0.4472136 ],\n",
      "       [-0.4472136 ,  0.89442719]]))\n"
     ]
    }
   ],
   "source": [
    "P2.solve(A3)"
   ]
  },
  {
   "cell_type": "code",
   "execution_count": 50,
   "metadata": {},
   "outputs": [
    {
     "name": "stdout",
     "output_type": "stream",
     "text": [
      "[0. 2.]\n",
      "[[-2.  0.]\n",
      " [ 2. -1.]\n",
      " [ 1. -1.]\n",
      " [-1.  1.]\n",
      " [ 0.  1.]]\n",
      "AmT@Am\n",
      " [[10. -4.]\n",
      " [-4.  4.]]\n",
      "eigenvs\n",
      " [12.  2.]\n",
      "(array([12.,  2.]), array([[ 0.89442719,  0.4472136 ],\n",
      "       [-0.4472136 ,  0.89442719]]))\n",
      "[[ 3.6 -1.8]\n",
      " [ 1.2 -0.6]\n",
      " [ 3.2 -1.6]\n",
      " [ 0.   0. ]]\n",
      "Problem 2-4\n"
     ]
    },
    {
     "data": {
      "image/png": "[encoded data removed]",
      "text/plain": [
       "<Figure size 432x288 with 1 Axes>"
      ]
     },
     "metadata": {
      "needs_background": "light"
     },
     "output_type": "display_data"
    }
   ],
   "source": [
    "### PCA of Q2\n",
    "\n",
    "m3 = np.mean(A3, axis=0)\n",
    "print(m1)\n",
    "Am3 = A3-m3\n",
    "print(Am3)\n",
    "B3 = Am3.T@Am3\n",
    "print(\"AmT@Am\\n\", B3)\n",
    "print(\"eigenvs\\n\", np.roots(np.poly(B3)))\n",
    "\n",
    "print(np.linalg.eig(B3))\n",
    "vt32 = np.array([[2, -1]])\n",
    "vt322 = np.array([[1, 2]])\n",
    "#print(\"u12\\n\", Am1@(vt12.T))\n",
    "#print(\"u22\\n\", Am1@(vt122.T))\n",
    "v32 =  vt32.T/np.linalg.norm(vt32)\n",
    "Proj32 = Am1@(v32)@(v32.T)\n",
    "Proj32 = Proj32 + m3\n",
    "print(Proj32)\n",
    "print(\"Problem 2-4\")\n",
    "plt.scatter(A3[:,0], A3[:,1])\n",
    "plt.scatter(Proj32[:,0], Proj32[:,1])\n",
    "plt.show()"
   ]
  },
  {
   "cell_type": "code",
   "execution_count": null,
   "metadata": {},
   "outputs": [],
   "source": []
  }
 ],
 "metadata": {
  "kernelspec": {
   "display_name": "Python 3",
   "language": "python",
   "name": "python3"
  },
  "language_info": {
   "codemirror_mode": {
    "name": "ipython",
    "version": 3
   },
   "file_extension": ".py",
   "mimetype": "text/x-python",
   "name": "python",
   "nbconvert_exporter": "python",
   "pygments_lexer": "ipython3",
   "version": "3.7.4"
  }
 },
 "nbformat": 4,
 "nbformat_minor": 2
}
