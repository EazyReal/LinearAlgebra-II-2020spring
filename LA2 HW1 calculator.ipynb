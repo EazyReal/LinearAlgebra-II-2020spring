{
 "cells": [
  {
   "cell_type": "code",
   "execution_count": 14,
   "metadata": {},
   "outputs": [],
   "source": [
    "import numpy as np"
   ]
  },
  {
   "cell_type": "code",
   "execution_count": 13,
   "metadata": {},
   "outputs": [],
   "source": [
    "##define T"
   ]
  },
  {
   "cell_type": "code",
   "execution_count": 19,
   "metadata": {},
   "outputs": [],
   "source": [
    "T = np.asarray([\n",
    "    [3, 0, -2],\n",
    "    [0, -2, 3],\n",
    "    [-2, 3, 0]\n",
    "])\n",
    "v = np.asarray([1,1,1])"
   ]
  },
  {
   "cell_type": "code",
   "execution_count": 10,
   "metadata": {},
   "outputs": [
    {
     "data": {
      "text/plain": [
       "array([[ 3,  0, -2],\n",
       "       [ 0, -2,  3],\n",
       "       [-2,  3,  0]])"
      ]
     },
     "execution_count": 10,
     "metadata": {},
     "output_type": "execute_result"
    }
   ],
   "source": [
    "T"
   ]
  },
  {
   "cell_type": "code",
   "execution_count": 15,
   "metadata": {},
   "outputs": [
    {
     "data": {
      "text/plain": [
       "array([1, 1, 1])"
      ]
     },
     "execution_count": 15,
     "metadata": {},
     "output_type": "execute_result"
    }
   ],
   "source": [
    "T@(np.asarray([1,1,1]).T)"
   ]
  },
  {
   "cell_type": "code",
   "execution_count": 16,
   "metadata": {},
   "outputs": [
    {
     "data": {
      "text/plain": [
       "array([1, 1, 1])"
      ]
     },
     "execution_count": 16,
     "metadata": {},
     "output_type": "execute_result"
    }
   ],
   "source": [
    "T.dot(np.asarray([1,1,1]).T)"
   ]
  },
  {
   "cell_type": "code",
   "execution_count": 58,
   "metadata": {},
   "outputs": [],
   "source": [
    "def basis_of_T_invariant_subspace(T, v):\n",
    "    vk = v\n",
    "    cur = [v]\n",
    "    prev = np.linalg.matrix_rank(np.asarray(cur))\n",
    "    #print(prev)\n",
    "    for i in range(min(T.shape[0], T.shape[1])):\n",
    "        vkp = T@vk\n",
    "        cur.append(vkp)\n",
    "        if(np.linalg.matrix_rank(np.asarray(cur)) == prev):\n",
    "            print(cur)\n",
    "            cur = cur[:-1]\n",
    "            return np.asarray(cur)\n",
    "        vk = vkp\n",
    "        prev = np.linalg.matrix_rank(np.asarray(cur))\n",
    "       \n",
    "                   "
   ]
  },
  {
   "cell_type": "code",
   "execution_count": 59,
   "metadata": {},
   "outputs": [
    {
     "name": "stdout",
     "output_type": "stream",
     "text": [
      "[array([1, 1, 1]), array([1, 1, 1])]\n"
     ]
    },
    {
     "data": {
      "text/plain": [
       "array([[1, 1, 1]])"
      ]
     },
     "execution_count": 59,
     "metadata": {},
     "output_type": "execute_result"
    }
   ],
   "source": [
    "basis_of_T_invariant_subspace(T, np.asarray([1,1,1]))"
   ]
  },
  {
   "cell_type": "code",
   "execution_count": 60,
   "metadata": {},
   "outputs": [
    {
     "name": "stdout",
     "output_type": "stream",
     "text": [
      "[array([ 3,  2, -5]), array([ 19, -19,   0]), array([ 57,  38, -95])]\n"
     ]
    },
    {
     "data": {
      "text/plain": [
       "array([[  3,   2,  -5],\n",
       "       [ 19, -19,   0]])"
      ]
     },
     "execution_count": 60,
     "metadata": {},
     "output_type": "execute_result"
    }
   ],
   "source": [
    "alpha2 = basis_of_T_invariant_subspace(T, np.asarray([3,2,-5]))\n",
    "alpha2"
   ]
  },
  {
   "cell_type": "code",
   "execution_count": 63,
   "metadata": {},
   "outputs": [
    {
     "name": "stdout",
     "output_type": "stream",
     "text": [
      "[array([1, 0, 0]), array([ 3,  0, -2]), array([13, -6, -6]), array([ 51,  -6, -44])]\n"
     ]
    },
    {
     "data": {
      "text/plain": [
       "array([[ 1,  0,  0],\n",
       "       [ 3,  0, -2],\n",
       "       [13, -6, -6]])"
      ]
     },
     "execution_count": 63,
     "metadata": {},
     "output_type": "execute_result"
    }
   ],
   "source": [
    "alpha3 = basis_of_T_invariant_subspace(T, np.asarray([1,0,0]))\n",
    "alpha3"
   ]
  },
  {
   "cell_type": "code",
   "execution_count": 56,
   "metadata": {},
   "outputs": [],
   "source": [
    "#np.linalg.solve(np.r_[alpha2, np.asarray([[0,0,0]])], np.asarray([57, 38, -57]))"
   ]
  },
  {
   "cell_type": "code",
   "execution_count": 74,
   "metadata": {},
   "outputs": [
    {
     "data": {
      "text/plain": [
       "array([-19.,  19.,   1.])"
      ]
     },
     "execution_count": 74,
     "metadata": {},
     "output_type": "execute_result"
    }
   ],
   "source": [
    "np.linalg.solve(alpha3.T, np.asarray([ 51,  -6, -44]))"
   ]
  },
  {
   "cell_type": "code",
   "execution_count": 75,
   "metadata": {},
   "outputs": [
    {
     "data": {
      "text/plain": [
       "array([ 51.,  -6., -44.])"
      ]
     },
     "execution_count": 75,
     "metadata": {},
     "output_type": "execute_result"
    }
   ],
   "source": [
    "alpha3.T@np.array([-19.,  19.,   1.])"
   ]
  },
  {
   "cell_type": "code",
   "execution_count": null,
   "metadata": {},
   "outputs": [],
   "source": []
  },
  {
   "cell_type": "code",
   "execution_count": null,
   "metadata": {},
   "outputs": [],
   "source": []
  }
 ],
 "metadata": {
  "kernelspec": {
   "display_name": "Python 3",
   "language": "python",
   "name": "python3"
  },
  "language_info": {
   "codemirror_mode": {
    "name": "ipython",
    "version": 3
   },
   "file_extension": ".py",
   "mimetype": "text/x-python",
   "name": "python",
   "nbconvert_exporter": "python",
   "pygments_lexer": "ipython3",
   "version": "3.7.0"
  }
 },
 "nbformat": 4,
 "nbformat_minor": 2
}
