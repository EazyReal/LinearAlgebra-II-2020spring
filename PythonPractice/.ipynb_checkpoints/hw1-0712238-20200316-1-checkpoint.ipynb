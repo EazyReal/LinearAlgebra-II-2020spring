{
 "cells": [
  {
   "cell_type": "markdown",
   "metadata": {},
   "source": [
    "<h1>機器學習(交大2020spring)<span class=\"tocSkip\"></span></h1>"
   ]
  },
  {
   "cell_type": "markdown",
   "metadata": {},
   "source": [
    "## 一、資料型態\n",
    "###   1. 數值 (numeric)：包括 int, float, bool, complex\n",
    "###   2. 字串 (string)： str\n",
    "###   3. 序列 (sequences)：包括 list, tuple\n",
    "###   4. 集合 (set)：包括 set, frozenset\n",
    "###   5. 映射 (mapping)：dict"
   ]
  },
  {
   "cell_type": "markdown",
   "metadata": {},
   "source": [
    "### 1. 數值"
   ]
  },
  {
   "cell_type": "markdown",
   "metadata": {},
   "source": [
    "#### 字串方法"
   ]
  },
  {
   "cell_type": "code",
   "execution_count": 1,
   "metadata": {},
   "outputs": [
    {
     "data": {
      "text/plain": [
       "'Abcd Abcd Abcd Abcd Abcd Abcd Abcd'"
      ]
     },
     "execution_count": 1,
     "metadata": {},
     "output_type": "execute_result"
    }
   ],
   "source": [
    "st = 'Abcd Abcd Abcd Abcd Abcd Abcd Abcd'\n",
    "\n",
    "st"
   ]
  },
  {
   "cell_type": "code",
   "execution_count": 2,
   "metadata": {},
   "outputs": [
    {
     "data": {
      "text/plain": [
       "'Defg Defg Defg Abcd Abcd Abcd Abcd'"
      ]
     },
     "execution_count": 2,
     "metadata": {},
     "output_type": "execute_result"
    }
   ],
   "source": [
    "st=st.replace('Abcd','Defg',3)\n",
    "\n",
    "st"
   ]
  },
  {
   "cell_type": "code",
   "execution_count": 3,
   "metadata": {},
   "outputs": [
    {
     "data": {
      "text/plain": [
       "['a', 'b', 'c']"
      ]
     },
     "execution_count": 3,
     "metadata": {},
     "output_type": "execute_result"
    }
   ],
   "source": [
    "st1 = ['a','b','c']\n",
    "\n",
    "st1"
   ]
  },
  {
   "cell_type": "code",
   "execution_count": 4,
   "metadata": {},
   "outputs": [
    {
     "data": {
      "text/plain": [
       "['m', 'a', 't', 'h']"
      ]
     },
     "execution_count": 4,
     "metadata": {},
     "output_type": "execute_result"
    }
   ],
   "source": [
    "st2 = list(\"math\")\n",
    "\n",
    "st2"
   ]
  },
  {
   "cell_type": "code",
   "execution_count": 5,
   "metadata": {},
   "outputs": [
    {
     "data": {
      "text/plain": [
       "'m------a------t------h'"
      ]
     },
     "execution_count": 5,
     "metadata": {},
     "output_type": "execute_result"
    }
   ],
   "source": [
    "st3 = '------'\n",
    "\n",
    "st3.join(st2)"
   ]
  },
  {
   "cell_type": "code",
   "execution_count": 6,
   "metadata": {},
   "outputs": [
    {
     "data": {
      "text/plain": [
       "'m*a*t*h'"
      ]
     },
     "execution_count": 6,
     "metadata": {},
     "output_type": "execute_result"
    }
   ],
   "source": [
    "st3 = '*'\n",
    "\n",
    "st3.join(st2)"
   ]
  },
  {
   "cell_type": "markdown",
   "metadata": {},
   "source": [
    "#### bool：用來表示布林型態，當要表示的結果只有Ture and False、對或錯、是或否時，就可以使用bool型別。"
   ]
  },
  {
   "cell_type": "code",
   "execution_count": 7,
   "metadata": {},
   "outputs": [
    {
     "data": {
      "text/plain": [
       "True"
      ]
     },
     "execution_count": 7,
     "metadata": {},
     "output_type": "execute_result"
    }
   ],
   "source": [
    "5 > 2"
   ]
  },
  {
   "cell_type": "code",
   "execution_count": 8,
   "metadata": {},
   "outputs": [
    {
     "data": {
      "text/plain": [
       "False"
      ]
     },
     "execution_count": 8,
     "metadata": {},
     "output_type": "execute_result"
    }
   ],
   "source": [
    "2 < 1"
   ]
  },
  {
   "cell_type": "code",
   "execution_count": 9,
   "metadata": {},
   "outputs": [
    {
     "data": {
      "text/plain": [
       "True"
      ]
     },
     "execution_count": 9,
     "metadata": {},
     "output_type": "execute_result"
    }
   ],
   "source": [
    "2 == 6 / 3"
   ]
  },
  {
   "cell_type": "markdown",
   "metadata": {},
   "source": [
    "#### Python提供了多種序列的儲存方式，比方說list (串列)，tuple(序對)，set(集合)，dict(字典)。我們主要要學會list跟dict。"
   ]
  },
  {
   "cell_type": "markdown",
   "metadata": {},
   "source": [
    "#### (1) list是由一連串資料所組成，他的規則是：\n",
    "        a. list 的結構由中括號 [] 所表示，裡面的資料以逗號隔開。\n",
    "        b. 資料有順序而且可以改變內容。\n",
    "        c. list中的各項資料的型別可以不同。"
   ]
  },
  {
   "cell_type": "code",
   "execution_count": 10,
   "metadata": {},
   "outputs": [
    {
     "data": {
      "text/plain": [
       "['math', 'Fenny', 1204, 168.1]"
      ]
     },
     "execution_count": 10,
     "metadata": {},
     "output_type": "execute_result"
    }
   ],
   "source": [
    "my_data = [\"math\", \"Fenny\", 1204, 168.1]\n",
    "\n",
    "my_data"
   ]
  },
  {
   "cell_type": "code",
   "execution_count": 11,
   "metadata": {},
   "outputs": [
    {
     "data": {
      "text/plain": [
       "'Fenny'"
      ]
     },
     "execution_count": 11,
     "metadata": {},
     "output_type": "execute_result"
    }
   ],
   "source": [
    "my_data[1]"
   ]
  },
  {
   "cell_type": "code",
   "execution_count": 21,
   "metadata": {},
   "outputs": [
    {
     "data": {
      "text/plain": [
       "['math', 'Fenny', 1204, 168.1, '星期一']"
      ]
     },
     "execution_count": 21,
     "metadata": {},
     "output_type": "execute_result"
    }
   ],
   "source": [
    "#從list的後面新增資料：append()\n",
    "\n",
    "my_data.append(\"星期一\")\n",
    "\n",
    "my_data"
   ]
  },
  {
   "cell_type": "code",
   "execution_count": 22,
   "metadata": {},
   "outputs": [
    {
     "data": {
      "text/plain": [
       "5"
      ]
     },
     "execution_count": 22,
     "metadata": {},
     "output_type": "execute_result"
    }
   ],
   "source": [
    "len(my_data) #length"
   ]
  },
  {
   "cell_type": "code",
   "execution_count": 20,
   "metadata": {},
   "outputs": [
    {
     "ename": "ValueError",
     "evalue": "list.remove(x): x not in list",
     "output_type": "error",
     "traceback": [
      "\u001b[1;31m---------------------------------------------------------------------------\u001b[0m",
      "\u001b[1;31mValueError\u001b[0m                                Traceback (most recent call last)",
      "\u001b[1;32m<ipython-input-20-adf91bb3c1c9>\u001b[0m in \u001b[0;36m<module>\u001b[1;34m\u001b[0m\n\u001b[0;32m      1\u001b[0m \u001b[1;31m#從list裡刪除特定資料：remove()\u001b[0m\u001b[1;33m\u001b[0m\u001b[1;33m\u001b[0m\u001b[1;33m\u001b[0m\u001b[0m\n\u001b[0;32m      2\u001b[0m \u001b[1;33m\u001b[0m\u001b[0m\n\u001b[1;32m----> 3\u001b[1;33m \u001b[0mmy_data\u001b[0m\u001b[1;33m.\u001b[0m\u001b[0mremove\u001b[0m\u001b[1;33m(\u001b[0m\u001b[1;34m\"星期一\"\u001b[0m\u001b[1;33m)\u001b[0m\u001b[1;33m\u001b[0m\u001b[1;33m\u001b[0m\u001b[0m\n\u001b[0m\u001b[0;32m      4\u001b[0m \u001b[1;33m\u001b[0m\u001b[0m\n\u001b[0;32m      5\u001b[0m \u001b[0mmy_data\u001b[0m\u001b[1;33m\u001b[0m\u001b[1;33m\u001b[0m\u001b[0m\n",
      "\u001b[1;31mValueError\u001b[0m: list.remove(x): x not in list"
     ]
    }
   ],
   "source": [
    "#從list裡刪除特定資料：remove()\n",
    "\n",
    "my_data.remove(\"星期一\")\n",
    "\n",
    "my_data"
   ]
  },
  {
   "cell_type": "markdown",
   "metadata": {},
   "source": [
    "#### (2) list常用的方法與運算：\n",
    "        a. len()：list裡的資料個數\n",
    "        b. max() and min () and sum()\n",
    "        c. sort()：將 () 裡的資料進行排序\n",
    "        d. reverse()：對調 list 裡面的資料\n",
    "        e. +：兩個list連接\n",
    "        f. *：重複list裡面的資料\n",
    "        g. in：檢查某項資料是否在list裡，比方說 2 in [1, 2, 3]\n",
    "        h. index()\n",
    "        i. extend()\n",
    "        j. insert()"
   ]
  },
  {
   "cell_type": "code",
   "execution_count": 28,
   "metadata": {},
   "outputs": [
    {
     "name": "stdout",
     "output_type": "stream",
     "text": [
      "e\n",
      "A\n"
     ]
    },
    {
     "ename": "TypeError",
     "evalue": "unsupported operand type(s) for +: 'int' and 'str'",
     "output_type": "error",
     "traceback": [
      "\u001b[1;31m---------------------------------------------------------------------------\u001b[0m",
      "\u001b[1;31mTypeError\u001b[0m                                 Traceback (most recent call last)",
      "\u001b[1;32m<ipython-input-28-776bf7313e12>\u001b[0m in \u001b[0;36m<module>\u001b[1;34m\u001b[0m\n\u001b[0;32m      3\u001b[0m \u001b[0mprint\u001b[0m\u001b[1;33m(\u001b[0m\u001b[0mmax\u001b[0m\u001b[1;33m(\u001b[0m\u001b[0mlist_2\u001b[0m\u001b[1;33m)\u001b[0m\u001b[1;33m)\u001b[0m\u001b[1;33m\u001b[0m\u001b[1;33m\u001b[0m\u001b[0m\n\u001b[0;32m      4\u001b[0m \u001b[0mprint\u001b[0m\u001b[1;33m(\u001b[0m\u001b[0mmin\u001b[0m\u001b[1;33m(\u001b[0m\u001b[0mlist_2\u001b[0m\u001b[1;33m)\u001b[0m\u001b[1;33m)\u001b[0m\u001b[1;33m\u001b[0m\u001b[1;33m\u001b[0m\u001b[0m\n\u001b[1;32m----> 5\u001b[1;33m \u001b[0mprint\u001b[0m\u001b[1;33m(\u001b[0m\u001b[0msum\u001b[0m\u001b[1;33m(\u001b[0m\u001b[0mlist_2\u001b[0m\u001b[1;33m)\u001b[0m\u001b[1;33m)\u001b[0m\u001b[1;33m\u001b[0m\u001b[1;33m\u001b[0m\u001b[0m\n\u001b[0m",
      "\u001b[1;31mTypeError\u001b[0m: unsupported operand type(s) for +: 'int' and 'str'"
     ]
    }
   ],
   "source": [
    "list_2 = [\"a\", \"b\", \"c\", \"d\", \"e\", \"A\", \"B\"]  # A....Z, a,... z (由小到大)\n",
    "\n",
    "print(max(list_2))\n",
    "print(min(list_2))\n",
    "print(sum(list_2))"
   ]
  },
  {
   "cell_type": "markdown",
   "metadata": {},
   "source": [
    "#### (3) Python的dict型態 (字典) 用來表示成對的 \"鍵值：內含值\" (key : value) 對應資料。當dict的型態建立好後，要使用資料時，是以它的key來取得相對應的內含值，所以屬於「映射型態」(mapping type)。它的規則是：\n",
    "        a. 前後以大括號 {} 表示，裡面的 \"鍵值：內含值\" 以逗號隔開。\n",
    "        b. 沒有順序\n",
    "        c. 不能重複\n",
    "        d. 內容可以改變\n",
    "        e. \"鍵值：內含值\" 以key為索引，用以存取字典中的內含值(value)"
   ]
  },
  {
   "cell_type": "code",
   "execution_count": 29,
   "metadata": {},
   "outputs": [
    {
     "data": {
      "text/plain": [
       "{'Name': 'Fenny', 'Age': 100}"
      ]
     },
     "execution_count": 29,
     "metadata": {},
     "output_type": "execute_result"
    }
   ],
   "source": [
    "my_data1 = {\"Name\": \"Fenny\", \"Age\": 100}\n",
    "\n",
    "my_data1"
   ]
  },
  {
   "cell_type": "code",
   "execution_count": 30,
   "metadata": {},
   "outputs": [
    {
     "data": {
      "text/plain": [
       "100"
      ]
     },
     "execution_count": 30,
     "metadata": {},
     "output_type": "execute_result"
    }
   ],
   "source": [
    "my_data1[\"Age\"]"
   ]
  },
  {
   "cell_type": "code",
   "execution_count": 33,
   "metadata": {},
   "outputs": [
    {
     "name": "stdout",
     "output_type": "stream",
     "text": [
      "Fenny\n"
     ]
    }
   ],
   "source": [
    "print(my_data1[\"Name\"])"
   ]
  },
  {
   "cell_type": "code",
   "execution_count": 32,
   "metadata": {},
   "outputs": [
    {
     "name": "stdout",
     "output_type": "stream",
     "text": [
      "My name is Fenny.\n"
     ]
    }
   ],
   "source": [
    "print(\"My name is \" + my_data1[\"Name\"] + \".\")"
   ]
  },
  {
   "cell_type": "code",
   "execution_count": 37,
   "metadata": {},
   "outputs": [
    {
     "name": "stdout",
     "output_type": "stream",
     "text": [
      "My name is Fennyand I am 100 years old.\n"
     ]
    }
   ],
   "source": [
    "print(\"My name is \" + my_data1[\"Name\"] + \"and I am \" + str(my_data1[\"Age\"]) + \" years old.\")"
   ]
  },
  {
   "cell_type": "code",
   "execution_count": 39,
   "metadata": {},
   "outputs": [
    {
     "name": "stdout",
     "output_type": "stream",
     "text": [
      "100\n",
      "100\n"
     ]
    }
   ],
   "source": [
    "print(my_data1[\"Age\"])\n",
    "\n",
    "print(str(my_data1[\"Age\"]))"
   ]
  },
  {
   "cell_type": "code",
   "execution_count": 41,
   "metadata": {},
   "outputs": [
    {
     "name": "stdout",
     "output_type": "stream",
     "text": [
      "<class 'int'>\n",
      "<class 'str'>\n"
     ]
    }
   ],
   "source": [
    "print(type(my_data1[\"Age\"]))\n",
    "\n",
    "print(type(str(my_data1[\"Age\"])))"
   ]
  },
  {
   "cell_type": "code",
   "execution_count": 42,
   "metadata": {},
   "outputs": [
    {
     "data": {
      "text/plain": [
       "{'Name': ['Max', 'Jack', 'Micky'],\n",
       " 'age': [40, 45, 30],\n",
       " 'type': ['designer', 'artist', 'programer']}"
      ]
     },
     "execution_count": 42,
     "metadata": {},
     "output_type": "execute_result"
    }
   ],
   "source": [
    "new_data = {'Name' : ['Max','Jack','Micky'],\n",
    "            'age' : [40,45,30],\n",
    "            'type' : ['designer','artist','programer']}\n",
    "\n",
    "new_data"
   ]
  },
  {
   "cell_type": "code",
   "execution_count": 43,
   "metadata": {},
   "outputs": [
    {
     "data": {
      "text/plain": [
       "[40, 45, 30]"
      ]
     },
     "execution_count": 43,
     "metadata": {},
     "output_type": "execute_result"
    }
   ],
   "source": [
    "new_data['age']"
   ]
  },
  {
   "cell_type": "markdown",
   "metadata": {},
   "source": [
    "#### get，由key取得value的方法 (method)"
   ]
  },
  {
   "cell_type": "code",
   "execution_count": 44,
   "metadata": {},
   "outputs": [
    {
     "data": {
      "text/plain": [
       "100"
      ]
     },
     "execution_count": 44,
     "metadata": {},
     "output_type": "execute_result"
    }
   ],
   "source": [
    "my_data1.get(\"Age\")"
   ]
  },
  {
   "cell_type": "code",
   "execution_count": 45,
   "metadata": {},
   "outputs": [
    {
     "data": {
      "text/plain": [
       "'Fenny'"
      ]
     },
     "execution_count": 45,
     "metadata": {},
     "output_type": "execute_result"
    }
   ],
   "source": [
    "my_data1.get(\"Name\", \"Data Not Found\")"
   ]
  },
  {
   "cell_type": "code",
   "execution_count": 46,
   "metadata": {},
   "outputs": [
    {
     "data": {
      "text/plain": [
       "'Data Not Found'"
      ]
     },
     "execution_count": 46,
     "metadata": {},
     "output_type": "execute_result"
    }
   ],
   "source": [
    "my_data1.get(\"name\", \"Data Not Found\")"
   ]
  },
  {
   "cell_type": "markdown",
   "metadata": {},
   "source": [
    "#### dict( )：複製一個dict的物件到另一個新的dict的物件"
   ]
  },
  {
   "cell_type": "code",
   "execution_count": 47,
   "metadata": {},
   "outputs": [],
   "source": [
    "copy_data = dict(my_data1)"
   ]
  },
  {
   "cell_type": "code",
   "execution_count": 48,
   "metadata": {},
   "outputs": [
    {
     "data": {
      "text/plain": [
       "{'Name': 'Fenny', 'Age': 100}"
      ]
     },
     "execution_count": 48,
     "metadata": {},
     "output_type": "execute_result"
    }
   ],
   "source": [
    "copy_data"
   ]
  },
  {
   "cell_type": "markdown",
   "metadata": {},
   "source": [
    "#### (4) dict 常用的方法與運算：\n",
    "        a. len(dict)：dict裡的資料個數\n",
    "        b. max(dict) and min(dict)：key值所對應的最大值(或最小值)，使用時，裡面的資料型態需要相同。\n",
    "        c. dict.clear(清除裡面的資料)"
   ]
  },
  {
   "cell_type": "code",
   "execution_count": 49,
   "metadata": {},
   "outputs": [
    {
     "data": {
      "text/plain": [
       "2"
      ]
     },
     "execution_count": 49,
     "metadata": {},
     "output_type": "execute_result"
    }
   ],
   "source": [
    "len(my_data1)"
   ]
  },
  {
   "cell_type": "code",
   "execution_count": 50,
   "metadata": {},
   "outputs": [
    {
     "data": {
      "text/plain": [
       "{'Name': ['Max', 'Jack', 'Micky'],\n",
       " 'age': [40, 45, 30],\n",
       " 'type': ['designer', 'artist', 'programer']}"
      ]
     },
     "execution_count": 50,
     "metadata": {},
     "output_type": "execute_result"
    }
   ],
   "source": [
    "new_data"
   ]
  },
  {
   "cell_type": "code",
   "execution_count": 51,
   "metadata": {},
   "outputs": [
    {
     "data": {
      "text/plain": [
       "45"
      ]
     },
     "execution_count": 51,
     "metadata": {},
     "output_type": "execute_result"
    }
   ],
   "source": [
    "max(new_data['age'])"
   ]
  },
  {
   "cell_type": "markdown",
   "metadata": {},
   "source": [
    "## 二、邏輯判斷式"
   ]
  },
  {
   "cell_type": "code",
   "execution_count": 53,
   "metadata": {},
   "outputs": [
    {
     "name": "stdout",
     "output_type": "stream",
     "text": [
      "not ok\n",
      "!=20\n"
     ]
    }
   ],
   "source": [
    "#a = 100\n",
    "#a = 'abc'\n",
    "a = True\n",
    "#a = False\n",
    "#a = 10\n",
    "#a = 20\n",
    "\n",
    "if a == 10:\n",
    "    pass\n",
    "else:\n",
    "    print(\"not ok\")\n",
    "\n",
    "if a != 20:\n",
    "    print(\"!=20\")\n",
    "else:\n",
    "    print(\"the number equals 20.\")"
   ]
  },
  {
   "cell_type": "code",
   "execution_count": 55,
   "metadata": {},
   "outputs": [
    {
     "name": "stdout",
     "output_type": "stream",
     "text": [
      "good\n"
     ]
    }
   ],
   "source": [
    "if (\"z\" > \"b\" and 5 > 2):\n",
    "    print(\"good\")\n",
    "else:\n",
    "    print(\"nice\")"
   ]
  },
  {
   "cell_type": "code",
   "execution_count": 57,
   "metadata": {},
   "outputs": [
    {
     "name": "stdout",
     "output_type": "stream",
     "text": [
      "nice\n"
     ]
    }
   ],
   "source": [
    "if (\"z\" < \"b\" or 5 < 2):\n",
    "    print(\"good\")\n",
    "else:\n",
    "    print(\"nice\")"
   ]
  },
  {
   "cell_type": "markdown",
   "metadata": {},
   "source": [
    "#### 讓使用者輸入密碼，用程式判斷輸入的密碼是否等於 1234"
   ]
  },
  {
   "cell_type": "code",
   "execution_count": 1,
   "metadata": {},
   "outputs": [
    {
     "name": "stdout",
     "output_type": "stream",
     "text": [
      "請輸入密碼： 4234k\n",
      "您輸入的密碼不正確。\n"
     ]
    }
   ],
   "source": [
    "pw = input(\"請輸入密碼： \")\n",
    "\n",
    "if pw == \"1234\":\n",
    "    print(\"您輸入的密碼是正確的！\")\n",
    "else:\n",
    "    print(\"您輸入的密碼不正確。\")"
   ]
  },
  {
   "cell_type": "code",
   "execution_count": 63,
   "metadata": {},
   "outputs": [
    {
     "name": "stdout",
     "output_type": "stream",
     "text": [
      "請輸入密碼： 1234\n",
      "您輸入的密碼是正確的！\n",
      "=================\n",
      "遊戲結束\n"
     ]
    }
   ],
   "source": [
    "pw = input(\"請輸入密碼： \")\n",
    "\n",
    "if pw == \"1234\":\n",
    "    print(\"您輸入的密碼是正確的！\")\n",
    "\n",
    "print(\"=================\")\n",
    "print(\"遊戲結束\")"
   ]
  },
  {
   "cell_type": "code",
   "execution_count": 68,
   "metadata": {},
   "outputs": [
    {
     "name": "stdout",
     "output_type": "stream",
     "text": [
      "1234\n",
      "<class 'str'>\n",
      "<class 'int'>\n"
     ]
    }
   ],
   "source": [
    "print(pw)\n",
    "print(type(pw))\n",
    "\n",
    "pw_1 = int(pw)\n",
    "print(type(pw_1))"
   ]
  },
  {
   "cell_type": "markdown",
   "metadata": {},
   "source": [
    "#### 讓使用者輸入總成績，再來判定使用者的等級 (if...elif...else)"
   ]
  },
  {
   "cell_type": "code",
   "execution_count": 69,
   "metadata": {},
   "outputs": [
    {
     "name": "stdout",
     "output_type": "stream",
     "text": [
      "請輸入微積分的成績： 75.5\n",
      "C\n"
     ]
    }
   ],
   "source": [
    "#因為需要比較成績，所以要確保是數字再來比較。但輸入的文字都是字串型態，所以需要用到eval把字串型態的資料轉成數字型態的資料。\n",
    "\n",
    "score = eval(input(\"請輸入微積分的成績： \"))\n",
    "\n",
    "if score >= 90:\n",
    "    print(\"A\")\n",
    "elif score < 90 and score >= 80:\n",
    "    print(\"B\")\n",
    "elif score < 80 and score >= 70:\n",
    "    print(\"C\")\n",
    "elif score < 70 and score >= 60:\n",
    "    print(\"D\")\n",
    "else:\n",
    "    print(\"E\")"
   ]
  },
  {
   "cell_type": "code",
   "execution_count": 72,
   "metadata": {},
   "outputs": [
    {
     "name": "stdout",
     "output_type": "stream",
     "text": [
      "請輸入總成績： 90\n",
      "請輸入普通物理的成績： 15\n",
      "E\n"
     ]
    }
   ],
   "source": [
    "score = eval(input(\"請輸入總成績： \"))\n",
    "phy_score = eval(input(\"請輸入普通物理的成績： \"))\n",
    "\n",
    "if phy_score >= 60:\n",
    "    if score >= 90:\n",
    "        print(\"A\")\n",
    "    if score < 90 and score >= 80:\n",
    "        print(\"B\")\n",
    "    if score < 80 and score >= 70:\n",
    "        print(\"C\")\n",
    "    if score < 70:\n",
    "        print(\"D\")\n",
    "else:\n",
    "    print(\"E\")"
   ]
  },
  {
   "cell_type": "code",
   "execution_count": 75,
   "metadata": {},
   "outputs": [
    {
     "name": "stdout",
     "output_type": "stream",
     "text": [
      "求解一元二次方程式：\n",
      "請輸入係數 a: 2\n",
      "請輸入係數 b: 8\n",
      "請輸入係數 c: 8\n",
      "重根: -2.0\n"
     ]
    }
   ],
   "source": [
    "import math\n",
    "\n",
    "print(\"求解一元二次方程式：\")\n",
    "\n",
    "a = eval(input(\"請輸入係數 a: \"))\n",
    "b = eval(input(\"請輸入係數 b: \"))\n",
    "c = eval(input(\"請輸入係數 c: \"))\n",
    "\n",
    "D = (b**2) - (4*a*c)\n",
    "\n",
    "if D > 0:\n",
    "    x_1 = ((-b) + math.sqrt(D)) / (2*a)\n",
    "    x_2 = ((-b) - math.sqrt(D)) / (2*a)\n",
    "    print(\"有兩相異實根\")\n",
    "    print(str(x_1) + \" and \" + str(x_2))\n",
    "elif D == 0:\n",
    "    x = (-b) / (2*a)\n",
    "    print(\"重根: \" + str(x))\n",
    "else:\n",
    "    print(\"無實數解\")"
   ]
  },
  {
   "cell_type": "markdown",
   "metadata": {},
   "source": [
    "## 三、練習題"
   ]
  },
  {
   "cell_type": "markdown",
   "metadata": {},
   "source": [
    "#### 1.請建立一個list (裡面至少包含6種食物)，然後寫一個程式，讓使用者可以輸入自己喜歡的食物 XX，看看有沒有在這個list中。\n",
    "####    如果沒有，程式就輸出「xx 並非list中的食物」。\n",
    "####    如果有，就由程式找出它是list中第幾個位置並輸出「xx是list中的第x個食物」。"
   ]
  },
  {
   "cell_type": "markdown",
   "metadata": {},
   "source": [
    "#### 2.請比較extend、append、insert這三種method之間的差別。"
   ]
  },
  {
   "cell_type": "markdown",
   "metadata": {},
   "source": [
    "#### 3.文字接龍遊戲：遊戲每次開始，程式都會請玩家輸入一組英文字串，比方說「math」。\n",
    "#### 然後程式就會輸出「您輸出的字串是math，請再次輸入以h為開頭的字串」，接著遊戲就會開始第二輪，\n",
    "#### 假設第二次玩家輸出的字串是「happy」，\n",
    "#### 然後程式就會輸出「您輸出的字串是math-happy，請再次輸入以y為開頭的字串」，接著遊戲就會開始第三輪，\n",
    "#### 假設第三次玩家輸出的字串是「yes」，\n",
    "#### 然後程式就會輸出「您輸出的字串是math-happy-yes，請再次輸入以s為開頭的字串」，接著遊戲就會開始第四輪，\n",
    "#### 以此類推…只要失敗五次遊戲就會中止。"
   ]
  },
  {
   "cell_type": "markdown",
   "metadata": {},
   "source": [
    "## part 1"
   ]
  },
  {
   "cell_type": "code",
   "execution_count": 2,
   "metadata": {},
   "outputs": [
    {
     "ename": "SyntaxError",
     "evalue": "unexpected EOF while parsing (<ipython-input-2-4e02a5fe766a>, line 1)",
     "output_type": "error",
     "traceback": [
      "\u001b[0;36m  File \u001b[0;32m\"<ipython-input-2-4e02a5fe766a>\"\u001b[0;36m, line \u001b[0;32m1\u001b[0m\n\u001b[0;31m    while(1):\u001b[0m\n\u001b[0m             ^\u001b[0m\n\u001b[0;31mSyntaxError\u001b[0m\u001b[0;31m:\u001b[0m unexpected EOF while parsing\n"
     ]
    }
   ],
   "source": [
    "from collections import default_dict\n",
    "\n",
    "idx = 1;\n",
    "\n",
    "while(1):\n",
    "    cur = input()"
   ]
  },
  {
   "cell_type": "markdown",
   "metadata": {},
   "source": [
    "## 四、廻圈"
   ]
  },
  {
   "cell_type": "markdown",
   "metadata": {},
   "source": [
    "#### 某些需要重複執行的動作，就使用迴圈。\n",
    "#### 比方說，媽媽每天都給小明零用錢，小明捨不得花，把每天拿到的錢存起來，天天加總計算…\n",
    "#### 迴圈有for跟while兩種。\n",
    "#### for 迴圈是以計數的方式控制迴圈的執行"
   ]
  },
  {
   "cell_type": "code",
   "execution_count": 76,
   "metadata": {},
   "outputs": [
    {
     "name": "stdout",
     "output_type": "stream",
     "text": [
      "現在顯示第 0 次\n",
      "0\n",
      "現在顯示第 1 次\n",
      "1\n",
      "現在顯示第 2 次\n",
      "2\n",
      "現在顯示第 3 次\n",
      "3\n",
      "現在顯示第 4 次\n",
      "4\n"
     ]
    }
   ],
   "source": [
    "for i in range(5): #i = 0, 1, 2, 3, 4\n",
    "    print(\"現在顯示第 \" + str(i) + \" 次\")\n",
    "    print(i)"
   ]
  },
  {
   "cell_type": "markdown",
   "metadata": {},
   "source": [
    "#### range(n) 用來控制for迴圈的執行次數，由0開始，到n-1結束\n",
    "#### range也可以像下面這個例子這樣用：\n",
    "#### range(a, b, c)：a稱為起始值，b稱為終止值(不包含)，c稱為增加值。"
   ]
  },
  {
   "cell_type": "code",
   "execution_count": 81,
   "metadata": {},
   "outputs": [
    {
     "name": "stdout",
     "output_type": "stream",
     "text": [
      "現在加入 1\n",
      "現在加入 2\n",
      "現在加入 3\n",
      "現在加入 4\n",
      "現在加入 5\n",
      "現在加入 6\n",
      "現在加入 7\n",
      "現在加入 8\n",
      "現在加入 9\n",
      "現在加入 10\n",
      "1 + 2 + 3 + ... + 10 的總和為55\n"
     ]
    }
   ],
   "source": [
    "sum = 0\n",
    "\n",
    "for i in range(1, 11, 1): #range(1, 11)\n",
    "    print(\"現在加入 \" + str(i))\n",
    "    sum += i # sum = sum + i\n",
    "    \n",
    "print(\"1 + 2 + 3 + ... + 10 的總和為\" + str(sum))"
   ]
  },
  {
   "cell_type": "code",
   "execution_count": 82,
   "metadata": {},
   "outputs": [
    {
     "name": "stdout",
     "output_type": "stream",
     "text": [
      "現在加入 1\n",
      "現在加入 2\n",
      "現在加入 3\n",
      "現在加入 4\n",
      "現在加入 5\n",
      "現在加入 6\n",
      "現在加入 7\n",
      "現在加入 8\n",
      "現在加入 9\n",
      "現在加入 10\n",
      "執行完畢 \n",
      "\n",
      "1 + 2 + 3 + ... + 10 的總和為55\n"
     ]
    }
   ],
   "source": [
    "sum = 0\n",
    "\n",
    "for i in range(1, 11, 1):\n",
    "    print(\"現在加入 \" + str(i))\n",
    "    sum += i   #sum = sum + i\n",
    "else:\n",
    "    print(\"執行完畢 \\n\")\n",
    "          \n",
    "print(\"1 + 2 + 3 + ... + 10 的總和為\" + str(sum))"
   ]
  },
  {
   "cell_type": "code",
   "execution_count": 83,
   "metadata": {},
   "outputs": [
    {
     "name": "stdout",
     "output_type": "stream",
     "text": [
      "現在加入 0\n",
      "現在加入 1\n",
      "現在加入 2\n",
      "現在加入 3\n",
      "現在加入 4\n",
      "加總的總和為10\n"
     ]
    }
   ],
   "source": [
    "sum = 0\n",
    "\n",
    "for i in range(5):\n",
    "    print(\"現在加入 \" + str(i))\n",
    "    sum += i\n",
    "print(\"加總的總和為\" + str(sum))"
   ]
  },
  {
   "cell_type": "code",
   "execution_count": 84,
   "metadata": {},
   "outputs": [
    {
     "name": "stdout",
     "output_type": "stream",
     "text": [
      "現在加入 5\n",
      "現在加入 10\n",
      "現在加入 20\n",
      "現在加入 15\n",
      "執行完畢 \n",
      "\n",
      "加總的總和為50\n"
     ]
    }
   ],
   "source": [
    "sum = 0\n",
    "list_1 = [5, 10, 20, 15]\n",
    "\n",
    "for i in list_1:\n",
    "    print(\"現在加入 \" + str(i))\n",
    "    sum += i\n",
    "else:\n",
    "    print(\"執行完畢 \\n\") #\\n代表換行\n",
    "    \n",
    "print(\"加總的總和為\" + str(sum))"
   ]
  },
  {
   "cell_type": "code",
   "execution_count": 85,
   "metadata": {},
   "outputs": [
    {
     "ename": "SyntaxError",
     "evalue": "invalid character in identifier (<ipython-input-85-992448cff642>, line 7)",
     "output_type": "error",
     "traceback": [
      "\u001b[1;36m  File \u001b[1;32m\"<ipython-input-85-992448cff642>\"\u001b[1;36m, line \u001b[1;32m7\u001b[0m\n\u001b[1;33m    print(str(i) + \"*\" + str(j) + \"=\" +　str(num))\u001b[0m\n\u001b[1;37m                                       　  ^\u001b[0m\n\u001b[1;31mSyntaxError\u001b[0m\u001b[1;31m:\u001b[0m invalid character in identifier\n"
     ]
    }
   ],
   "source": [
    "print(\"九九乘法表\")\n",
    "\n",
    "for i in range(1, 10):\n",
    "    print(\"\\n\\n\" + str(i) + \"...\\n\")\n",
    "    for j in range(1, 10):\n",
    "        num = i * j\n",
    "        print(str(i) + \"*\" + str(j) + \"=\" +　str(num))\n",
    "        \n",
    "print(\"\\n 執行完畢 \\n\")"
   ]
  },
  {
   "cell_type": "markdown",
   "metadata": {},
   "source": [
    "#### while 迴圈是以「條件式是否成立來控制迴圈的執行」\n",
    "\n"
   ]
  },
  {
   "cell_type": "code",
   "execution_count": 1,
   "metadata": {},
   "outputs": [
    {
     "name": "stdout",
     "output_type": "stream",
     "text": [
      "現在顯示第 1 次\n",
      "1\n",
      "現在顯示第 2 次\n",
      "2\n",
      "現在顯示第 3 次\n",
      "3\n",
      "現在顯示第 4 次\n",
      "4\n",
      "現在顯示第 5 次\n",
      "5\n"
     ]
    }
   ],
   "source": [
    "i = 1\n",
    "\n",
    "while (i <= 5):\n",
    "    print(\"現在顯示第 \" + str(i) + \" 次\")\n",
    "    print(i)\n",
    "    i += 1 # i = i + 1\n",
    "    \n",
    "#不寫 i += 1 廻圈就不會停止了！因為 i 將永遠是 1. "
   ]
  },
  {
   "cell_type": "code",
   "execution_count": null,
   "metadata": {},
   "outputs": [],
   "source": [
    "num_list = [14, 40, 66, 80, 99]\n",
    "print(\"在[14, 40, 66, 80, 99]中找到第一個3的倍數\")\n"
   ]
  }
 ],
 "metadata": {
  "kernelspec": {
   "display_name": "Python 3",
   "language": "python",
   "name": "python3"
  },
  "language_info": {
   "codemirror_mode": {
    "name": "ipython",
    "version": 3
   },
   "file_extension": ".py",
   "mimetype": "text/x-python",
   "name": "python",
   "nbconvert_exporter": "python",
   "pygments_lexer": "ipython3",
   "version": "3.7.4"
  }
 },
 "nbformat": 4,
 "nbformat_minor": 2
}
