{
 "cells": [
  {
   "cell_type": "code",
   "execution_count": 11,
   "metadata": {},
   "outputs": [],
   "source": [
    "import numpy as np\n",
    "from scipy.linalg import null_space\n",
    "import scipy.linalg"
   ]
  },
  {
   "cell_type": "code",
   "execution_count": 40,
   "metadata": {},
   "outputs": [],
   "source": [
    "A1 = np.asarray(\n",
    "[\n",
    "    [0, 9, 0, 0],\n",
    "    [2, 0, 5, -1],\n",
    "    [0, -4, 0, 0],\n",
    "    [0, -2, 0, 0],\n",
    "])\n",
    "\n",
    "A2 = np.asarray(\n",
    "[\n",
    "    [2, 5, 1, 0],\n",
    "    [-1, -2, 0, -1],\n",
    "    [1, 0, -2, 5],\n",
    "    [0, -1, -1, 2],\n",
    "])\n",
    "\n",
    "A3 = np.asarray(\n",
    "[\n",
    "    [8, 12, -1, 5],\n",
    "    [-4, -6, 1, -2],\n",
    "    [4, 4, 1, 7],\n",
    "    [-3, -4, 0, -3],\n",
    "])"
   ]
  },
  {
   "cell_type": "code",
   "execution_count": 52,
   "metadata": {},
   "outputs": [],
   "source": [
    "def print_ranks(A1):\n",
    "    print(A1)\n",
    "    print(np.linalg.matrix_rank(A1))\n",
    "    print(A1@A1)\n",
    "    print(np.linalg.matrix_rank(A1@A1))\n",
    "    print(A1@A1@A1)\n",
    "    print(np.linalg.matrix_rank(A1@A1@A1))\n",
    "    #print(np.linalg.matrix_rank(A1@A1@A1@A1))\n",
    "    #print(np.linalg.matrix_rank(A1@A1@A1@A1@A1))\n",
    "    print(np.poly(A1))  #1, 2, 3 all x4"
   ]
  },
  {
   "cell_type": "code",
   "execution_count": 53,
   "metadata": {},
   "outputs": [
    {
     "name": "stdout",
     "output_type": "stream",
     "text": [
      "[[ 0  9  0  0]\n",
      " [ 2  0  5 -1]\n",
      " [ 0 -4  0  0]\n",
      " [ 0 -2  0  0]]\n",
      "2\n",
      "[[ 18   0  45  -9]\n",
      " [  0   0   0   0]\n",
      " [ -8   0 -20   4]\n",
      " [ -4   0 -10   2]]\n",
      "1\n",
      "[[0 0 0 0]\n",
      " [0 0 0 0]\n",
      " [0 0 0 0]\n",
      " [0 0 0 0]]\n",
      "0\n",
      "[ 1.00000000e+00  2.66121208e-18  8.65927928e-16 -1.17747671e-22\n",
      "  0.00000000e+00]\n"
     ]
    }
   ],
   "source": [
    "print_ranks(A1)"
   ]
  },
  {
   "cell_type": "code",
   "execution_count": 54,
   "metadata": {},
   "outputs": [
    {
     "name": "stdout",
     "output_type": "stream",
     "text": [
      "[[ 2  5  1  0]\n",
      " [-1 -2  0 -1]\n",
      " [ 1  0 -2  5]\n",
      " [ 0 -1 -1  2]]\n",
      "2\n",
      "[[0 0 0 0]\n",
      " [0 0 0 0]\n",
      " [0 0 0 0]\n",
      " [0 0 0 0]]\n",
      "0\n",
      "[[0 0 0 0]\n",
      " [0 0 0 0]\n",
      " [0 0 0 0]\n",
      " [0 0 0 0]]\n",
      "0\n",
      "[ 1.00000000e+00 -9.10639196e-16 -3.69808364e-16 -7.86089943e-32\n",
      "  1.63131423e-32]\n"
     ]
    }
   ],
   "source": [
    "print_ranks(A2)"
   ]
  },
  {
   "cell_type": "code",
   "execution_count": 55,
   "metadata": {},
   "outputs": [
    {
     "name": "stdout",
     "output_type": "stream",
     "text": [
      "[[ 8 12 -1  5]\n",
      " [-4 -6  1 -2]\n",
      " [ 4  4  1  7]\n",
      " [-3 -4  0 -3]]\n",
      "3\n",
      "[[-3  0  3 -6]\n",
      " [ 2  0 -1  5]\n",
      " [-1  0  1 -2]\n",
      " [ 1  0 -1  2]]\n",
      "2\n",
      "[[  6   0   6  24]\n",
      " [ -3   0  -3 -12]\n",
      " [  2   0   2   8]\n",
      " [ -2   0  -2  -8]]\n",
      "1\n",
      "[ 1.00000000e+00  7.77560827e-17 -2.91329986e-14  8.19104982e-15\n",
      " -1.60355822e-14]\n"
     ]
    }
   ],
   "source": [
    "print_ranks(A3)"
   ]
  },
  {
   "cell_type": "code",
   "execution_count": 56,
   "metadata": {},
   "outputs": [],
   "source": [
    "A = np.asarray(\n",
    "[\n",
    "    [-10, -7, -2, 0, -4, 2],\n",
    "    [13, 6, -2, -3, 4, -1],\n",
    "    [6, 1, -2, 0, 0, 2]\n",
    "])"
   ]
  },
  {
   "cell_type": "code",
   "execution_count": 57,
   "metadata": {},
   "outputs": [
    {
     "data": {
      "text/plain": [
       "3"
      ]
     },
     "execution_count": 57,
     "metadata": {},
     "output_type": "execute_result"
    }
   ],
   "source": [
    "np.linalg.matrix_rank(A)"
   ]
  },
  {
   "cell_type": "code",
   "execution_count": 58,
   "metadata": {},
   "outputs": [
    {
     "data": {
      "text/plain": [
       "3"
      ]
     },
     "execution_count": 58,
     "metadata": {},
     "output_type": "execute_result"
    }
   ],
   "source": [
    "A = np.asarray(\n",
    "[\n",
    "    [-10, -7, -2, 0, -4, 2],\n",
    "    [13, 6, -2, -3, 4, -1],\n",
    "    [6, 1, -2, 0, 0, 2],\n",
    "    [0, 1, 2, 2, 0, 0]\n",
    "])\n",
    "np.linalg.matrix_rank(A)"
   ]
  },
  {
   "cell_type": "code",
   "execution_count": null,
   "metadata": {},
   "outputs": [],
   "source": []
  }
 ],
 "metadata": {
  "kernelspec": {
   "display_name": "Python 3",
   "language": "python",
   "name": "python3"
  },
  "language_info": {
   "codemirror_mode": {
    "name": "ipython",
    "version": 3
   },
   "file_extension": ".py",
   "mimetype": "text/x-python",
   "name": "python",
   "nbconvert_exporter": "python",
   "pygments_lexer": "ipython3",
   "version": "3.7.4"
  }
 },
 "nbformat": 4,
 "nbformat_minor": 2
}
